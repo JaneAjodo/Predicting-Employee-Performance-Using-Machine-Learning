{
 "cells": [
  {
   "cell_type": "code",
   "execution_count": 1,
   "id": "2fb74f15-6c97-4241-97f5-9522aa964c53",
   "metadata": {},
   "outputs": [],
   "source": [
    "# 1. Import Libraries\n",
    "import pandas as pd\n",
    "import numpy as np\n",
    "import seaborn as sns\n",
    "import matplotlib.pyplot as plt\n",
    "from sklearn.model_selection import train_test_split\n",
    "from sklearn.preprocessing import LabelEncoder, StandardScaler\n",
    "from sklearn.ensemble import RandomForestClassifier\n",
    "from sklearn.linear_model import LogisticRegression\n",
    "from xgboost import XGBClassifier\n",
    "from sklearn.metrics import classification_report, confusion_matrix, accuracy_score, f1_score"
   ]
  },
  {
   "cell_type": "code",
   "execution_count": 2,
   "id": "a55301bb-7122-4be2-ac78-f066aa8f62c7",
   "metadata": {},
   "outputs": [],
   "source": [
    "# Loading the Dataset\n",
    "df = pd.read_csv(\"Employe_Performance_dataset.csv\")"
   ]
  },
  {
   "cell_type": "code",
   "execution_count": 3,
   "id": "cb5b2f64-015d-4486-9f24-7609a16fb4c5",
   "metadata": {},
   "outputs": [
    {
     "data": {
      "text/html": [
       "<div>\n",
       "<style scoped>\n",
       "    .dataframe tbody tr th:only-of-type {\n",
       "        vertical-align: middle;\n",
       "    }\n",
       "\n",
       "    .dataframe tbody tr th {\n",
       "        vertical-align: top;\n",
       "    }\n",
       "\n",
       "    .dataframe thead th {\n",
       "        text-align: right;\n",
       "    }\n",
       "</style>\n",
       "<table border=\"1\" class=\"dataframe\">\n",
       "  <thead>\n",
       "    <tr style=\"text-align: right;\">\n",
       "      <th></th>\n",
       "      <th>ID</th>\n",
       "      <th>Name</th>\n",
       "      <th>Age</th>\n",
       "      <th>Gender</th>\n",
       "      <th>Department</th>\n",
       "      <th>Salary</th>\n",
       "      <th>Joining Date</th>\n",
       "      <th>Performance Score</th>\n",
       "      <th>Experience</th>\n",
       "      <th>Status</th>\n",
       "      <th>Location</th>\n",
       "      <th>Session</th>\n",
       "    </tr>\n",
       "  </thead>\n",
       "  <tbody>\n",
       "    <tr>\n",
       "      <th>0</th>\n",
       "      <td>1</td>\n",
       "      <td>Cory Escobar</td>\n",
       "      <td>48</td>\n",
       "      <td>Female</td>\n",
       "      <td>HR</td>\n",
       "      <td>5641</td>\n",
       "      <td>2015-05-03</td>\n",
       "      <td>2.0</td>\n",
       "      <td>16</td>\n",
       "      <td>Active</td>\n",
       "      <td>New York</td>\n",
       "      <td>Night</td>\n",
       "    </tr>\n",
       "    <tr>\n",
       "      <th>1</th>\n",
       "      <td>2</td>\n",
       "      <td>Timothy Sanchez</td>\n",
       "      <td>25</td>\n",
       "      <td>Other</td>\n",
       "      <td>Sales</td>\n",
       "      <td>4249</td>\n",
       "      <td>2020-11-09</td>\n",
       "      <td>2.0</td>\n",
       "      <td>11</td>\n",
       "      <td>Inactive</td>\n",
       "      <td>Los Angeles</td>\n",
       "      <td>Evening</td>\n",
       "    </tr>\n",
       "    <tr>\n",
       "      <th>2</th>\n",
       "      <td>3</td>\n",
       "      <td>Chad Nichols</td>\n",
       "      <td>57</td>\n",
       "      <td>Other</td>\n",
       "      <td>Sales</td>\n",
       "      <td>3058</td>\n",
       "      <td>2019-02-12</td>\n",
       "      <td>NaN</td>\n",
       "      <td>1</td>\n",
       "      <td>Inactive</td>\n",
       "      <td>New York</td>\n",
       "      <td>Morning</td>\n",
       "    </tr>\n",
       "    <tr>\n",
       "      <th>3</th>\n",
       "      <td>4</td>\n",
       "      <td>Christine Williams</td>\n",
       "      <td>58</td>\n",
       "      <td>Female</td>\n",
       "      <td>IT</td>\n",
       "      <td>5895</td>\n",
       "      <td>2017-09-08</td>\n",
       "      <td>2.0</td>\n",
       "      <td>13</td>\n",
       "      <td>Inactive</td>\n",
       "      <td>Los Angeles</td>\n",
       "      <td>Evening</td>\n",
       "    </tr>\n",
       "    <tr>\n",
       "      <th>4</th>\n",
       "      <td>5</td>\n",
       "      <td>Amber Harris</td>\n",
       "      <td>35</td>\n",
       "      <td>Other</td>\n",
       "      <td>IT</td>\n",
       "      <td>4317</td>\n",
       "      <td>2020-02-15</td>\n",
       "      <td>5.0</td>\n",
       "      <td>16</td>\n",
       "      <td>Inactive</td>\n",
       "      <td>New York</td>\n",
       "      <td>Evening</td>\n",
       "    </tr>\n",
       "  </tbody>\n",
       "</table>\n",
       "</div>"
      ],
      "text/plain": [
       "   ID                Name  Age  Gender Department  Salary Joining Date  \\\n",
       "0   1        Cory Escobar   48  Female         HR    5641   2015-05-03   \n",
       "1   2     Timothy Sanchez   25   Other      Sales    4249   2020-11-09   \n",
       "2   3        Chad Nichols   57   Other      Sales    3058   2019-02-12   \n",
       "3   4  Christine Williams   58  Female         IT    5895   2017-09-08   \n",
       "4   5        Amber Harris   35   Other         IT    4317   2020-02-15   \n",
       "\n",
       "   Performance Score  Experience    Status     Location  Session  \n",
       "0                2.0          16    Active     New York    Night  \n",
       "1                2.0          11  Inactive  Los Angeles  Evening  \n",
       "2                NaN           1  Inactive     New York  Morning  \n",
       "3                2.0          13  Inactive  Los Angeles  Evening  \n",
       "4                5.0          16  Inactive     New York  Evening  "
      ]
     },
     "execution_count": 3,
     "metadata": {},
     "output_type": "execute_result"
    }
   ],
   "source": [
    "# Previewing the dataset\n",
    "df.head()"
   ]
  },
  {
   "cell_type": "code",
   "execution_count": 4,
   "id": "ddc385bd-d28e-44f6-9c42-fa7c4e20bb55",
   "metadata": {},
   "outputs": [
    {
     "name": "stdout",
     "output_type": "stream",
     "text": [
      "<class 'pandas.core.frame.DataFrame'>\n",
      "RangeIndex: 1000 entries, 0 to 999\n",
      "Data columns (total 12 columns):\n",
      " #   Column             Non-Null Count  Dtype  \n",
      "---  ------             --------------  -----  \n",
      " 0   ID                 1000 non-null   int64  \n",
      " 1   Name               1000 non-null   object \n",
      " 2   Age                1000 non-null   int64  \n",
      " 3   Gender             1000 non-null   object \n",
      " 4   Department         1000 non-null   object \n",
      " 5   Salary             1000 non-null   int64  \n",
      " 6   Joining Date       1000 non-null   object \n",
      " 7   Performance Score  502 non-null    float64\n",
      " 8   Experience         1000 non-null   int64  \n",
      " 9   Status             1000 non-null   object \n",
      " 10  Location           1000 non-null   object \n",
      " 11  Session            1000 non-null   object \n",
      "dtypes: float64(1), int64(4), object(7)\n",
      "memory usage: 93.9+ KB\n"
     ]
    }
   ],
   "source": [
    "# Checking the datatypes\n",
    "df.info()"
   ]
  },
  {
   "cell_type": "code",
   "execution_count": 5,
   "id": "8bb00296-1f14-4194-a648-c4ae3af06f40",
   "metadata": {},
   "outputs": [
    {
     "data": {
      "text/plain": [
       "ID                     0\n",
       "Name                   0\n",
       "Age                    0\n",
       "Gender                 0\n",
       "Department             0\n",
       "Salary                 0\n",
       "Joining Date           0\n",
       "Performance Score    498\n",
       "Experience             0\n",
       "Status                 0\n",
       "Location               0\n",
       "Session                0\n",
       "dtype: int64"
      ]
     },
     "execution_count": 5,
     "metadata": {},
     "output_type": "execute_result"
    }
   ],
   "source": [
    "# Checking for missing variables\n",
    "df.isnull().sum()"
   ]
  },
  {
   "cell_type": "code",
   "execution_count": 6,
   "id": "05c570a8-85f4-4ab8-8aa4-b44dcf0efd7f",
   "metadata": {},
   "outputs": [],
   "source": [
    "# Data Cleaning\n",
    "# Dropping rows with missing Performance Score\n",
    "df = df.dropna(subset=['Performance Score'])\n"
   ]
  },
  {
   "cell_type": "code",
   "execution_count": 7,
   "id": "6d2b9330-cdb1-4c5e-a603-600f1aea15a0",
   "metadata": {},
   "outputs": [],
   "source": [
    "# Convert Joining Date to datetime\n",
    "df['Joining Date'] = pd.to_datetime(df['Joining Date'], errors='coerce')\n",
    "df['Tenure (Years)'] = (pd.Timestamp(\"now\") - df['Joining Date']).dt.days // 365"
   ]
  },
  {
   "cell_type": "code",
   "execution_count": 8,
   "id": "8199b68f-f362-4ad9-a8f9-2befe2735f56",
   "metadata": {},
   "outputs": [],
   "source": [
    "# Drop irrelevant columns\n",
    "df = df.drop(columns=['Name', 'ID'], errors='ignore')"
   ]
  },
  {
   "cell_type": "code",
   "execution_count": 9,
   "id": "f705a142-e304-4432-9e5b-a7d25ce8a4df",
   "metadata": {},
   "outputs": [],
   "source": [
    "#  Target Mapping\n",
    "# Map Performance Score to categories\n",
    "def map_score(score):\n",
    "    if score <= 2:\n",
    "        return 'Low'\n",
    "    elif score == 3:\n",
    "        return 'Average'\n",
    "    else:\n",
    "        return 'High'\n",
    "\n",
    "df['Performance Category'] = df['Performance Score'].apply(map_score)\n",
    "\n",
    "# Drop original score\n",
    "df = df.drop(columns=['Performance Score'])"
   ]
  },
  {
   "cell_type": "code",
   "execution_count": 10,
   "id": "7d34e375-6239-45d5-9b2e-f85257b911bf",
   "metadata": {},
   "outputs": [],
   "source": [
    "# Encode Categorical Features\n",
    "cat_cols = df.select_dtypes(include=['object']).columns\n",
    "df[cat_cols] = df[cat_cols].fillna('Unknown')\n",
    "le = LabelEncoder()\n",
    "for col in cat_cols:\n",
    "    df[col] = le.fit_transform(df[col])\n"
   ]
  },
  {
   "cell_type": "code",
   "execution_count": 11,
   "id": "1c0d6033-5ed2-4ee1-86e9-66969ae2b444",
   "metadata": {},
   "outputs": [],
   "source": [
    "# Splitting into dependent and independent variable\n",
    "# 6. Feature/Target Split\n",
    "df = df.drop(columns=['Joining Date'], errors='ignore')\n",
    "X = df.drop(columns=['Performance Category'])\n",
    "y = df['Performance Category']"
   ]
  },
  {
   "cell_type": "code",
   "execution_count": 12,
   "id": "0899206d-ddef-43ee-8c54-bf3b09400c9a",
   "metadata": {},
   "outputs": [],
   "source": [
    "# Train-Test Split\n",
    "X_train, X_test, y_train, y_test = train_test_split(X, y, test_size=0.2, random_state=42)\n"
   ]
  },
  {
   "cell_type": "code",
   "execution_count": 13,
   "id": "2f16bb70-88e4-42c0-aef8-28fe776883f5",
   "metadata": {},
   "outputs": [],
   "source": [
    "# Scaling\n",
    "scaler = StandardScaler()\n",
    "X_train = scaler.fit_transform(X_train)\n",
    "X_test = scaler.transform(X_test)"
   ]
  },
  {
   "cell_type": "code",
   "execution_count": 14,
   "id": "0d7bb6bf-779a-47bc-97db-3d73bd6103c2",
   "metadata": {},
   "outputs": [
    {
     "name": "stderr",
     "output_type": "stream",
     "text": [
      "/opt/conda/envs/anaconda-ai-2024.04-py310/lib/python3.10/site-packages/xgboost/sklearn.py:1395: UserWarning: `use_label_encoder` is deprecated in 1.7.0.\n",
      "  warnings.warn(\"`use_label_encoder` is deprecated in 1.7.0.\")\n"
     ]
    },
    {
     "name": "stdout",
     "output_type": "stream",
     "text": [
      "\n",
      "Random Forest Results:\n",
      "Accuracy: 0.49504950495049505\n",
      "F1 Score: 0.4836313397757777\n",
      "Classification Report:\n",
      "               precision    recall  f1-score   support\n",
      "\n",
      "           0       0.40      0.25      0.31        16\n",
      "           1       0.46      0.41      0.43        39\n",
      "           2       0.54      0.65      0.59        46\n",
      "\n",
      "    accuracy                           0.50       101\n",
      "   macro avg       0.46      0.44      0.44       101\n",
      "weighted avg       0.48      0.50      0.48       101\n",
      "\n",
      "Confusion Matrix:\n",
      " [[ 4  7  5]\n",
      " [ 2 16 21]\n",
      " [ 4 12 30]]\n",
      "\n",
      "Logistic Regression Results:\n",
      "Accuracy: 0.44554455445544555\n",
      "F1 Score: 0.3999784707899997\n",
      "Classification Report:\n",
      "               precision    recall  f1-score   support\n",
      "\n",
      "           0       0.00      0.00      0.00        16\n",
      "           1       0.44      0.36      0.39        39\n",
      "           2       0.46      0.67      0.54        46\n",
      "\n",
      "    accuracy                           0.45       101\n",
      "   macro avg       0.30      0.34      0.31       101\n",
      "weighted avg       0.38      0.45      0.40       101\n",
      "\n",
      "Confusion Matrix:\n",
      " [[ 0  4 12]\n",
      " [ 0 14 25]\n",
      " [ 1 14 31]]\n",
      "\n",
      "XGBoost Results:\n",
      "Accuracy: 0.504950495049505\n",
      "F1 Score: 0.5054905795936054\n",
      "Classification Report:\n",
      "               precision    recall  f1-score   support\n",
      "\n",
      "           0       0.28      0.31      0.29        16\n",
      "           1       0.53      0.46      0.49        39\n",
      "           2       0.57      0.61      0.59        46\n",
      "\n",
      "    accuracy                           0.50       101\n",
      "   macro avg       0.46      0.46      0.46       101\n",
      "weighted avg       0.51      0.50      0.51       101\n",
      "\n",
      "Confusion Matrix:\n",
      " [[ 5  5  6]\n",
      " [ 6 18 15]\n",
      " [ 7 11 28]]\n"
     ]
    }
   ],
   "source": [
    "# 9. Model Training and Comparison\n",
    "models = {\n",
    "    'Random Forest': RandomForestClassifier(random_state=42),\n",
    "    'Logistic Regression': LogisticRegression(max_iter=1000, random_state=42),\n",
    "    'XGBoost': XGBClassifier(use_label_encoder=False, eval_metric='mlogloss', random_state=42)\n",
    "}\n",
    "\n",
    "results = {}\n",
    "\n",
    "for name, model in models.items():\n",
    "    model.fit(X_train, y_train)\n",
    "    y_pred = model.predict(X_test)\n",
    "    \n",
    "    acc = accuracy_score(y_test, y_pred)\n",
    "    f1 = f1_score(y_test, y_pred, average='weighted')\n",
    "    \n",
    "    results[name] = {'Accuracy': acc, 'F1 Score': f1}\n",
    "    \n",
    "    print(f\"\\n{name} Results:\")\n",
    "    print(\"Accuracy:\", acc)\n",
    "    print(\"F1 Score:\", f1)\n",
    "    print(\"Classification Report:\\n\", classification_report(y_test, y_pred))\n",
    "    print(\"Confusion Matrix:\\n\", confusion_matrix(y_test, y_pred))\n"
   ]
  },
  {
   "cell_type": "code",
   "execution_count": 15,
   "id": "4365468e-5e02-48c8-aa27-3cfad2fabbd2",
   "metadata": {},
   "outputs": [
    {
     "name": "stdout",
     "output_type": "stream",
     "text": [
      "\n",
      "🔍 Model Comparison:\n",
      "\n",
      "                     Accuracy  F1 Score\n",
      "XGBoost              0.504950  0.505491\n",
      "Random Forest        0.495050  0.483631\n",
      "Logistic Regression  0.445545  0.399978\n",
      "\n",
      "✅ Best model selected: XGBoost\n"
     ]
    }
   ],
   "source": [
    "# Compare and Select Best Model\n",
    "results_df = pd.DataFrame(results).T.sort_values(by=\"F1 Score\", ascending=False)\n",
    "print(\"\\n🔍 Model Comparison:\\n\")\n",
    "print(results_df)\n",
    "\n",
    "# Select best model\n",
    "best_model_name = results_df.index[0]\n",
    "best_model = models[best_model_name]\n",
    "\n",
    "print(f\"\\n✅ Best model selected: {best_model_name}\")\n"
   ]
  },
  {
   "cell_type": "code",
   "execution_count": 16,
   "id": "8cfa7110-5227-4260-8afe-67f6bc041146",
   "metadata": {},
   "outputs": [
    {
     "name": "stdout",
     "output_type": "stream",
     "text": [
      "\n",
      "📌 Final Evaluation with Best Model:\n",
      "Classification Report:\n",
      "               precision    recall  f1-score   support\n",
      "\n",
      "           0       0.28      0.31      0.29        16\n",
      "           1       0.53      0.46      0.49        39\n",
      "           2       0.57      0.61      0.59        46\n",
      "\n",
      "    accuracy                           0.50       101\n",
      "   macro avg       0.46      0.46      0.46       101\n",
      "weighted avg       0.51      0.50      0.51       101\n",
      "\n",
      "Confusion Matrix:\n",
      " [[ 5  5  6]\n",
      " [ 6 18 15]\n",
      " [ 7 11 28]]\n"
     ]
    },
    {
     "data": {
      "image/png": "[encoded data removed]",
      "text/plain": [
       "<Figure size 640x480 with 1 Axes>"
      ]
     },
     "metadata": {},
     "output_type": "display_data"
    }
   ],
   "source": [
    "# Final Evaluation with Best Model\n",
    "best_model.fit(X_train, y_train)\n",
    "y_pred_best = best_model.predict(X_test)\n",
    "\n",
    "print(\"\\n📌 Final Evaluation with Best Model:\")\n",
    "print(\"Classification Report:\\n\", classification_report(y_test, y_pred_best))\n",
    "print(\"Confusion Matrix:\\n\", confusion_matrix(y_test, y_pred_best))\n",
    "\n",
    "# 12. Feature Importance\n",
    "if best_model_name == 'Random Forest':\n",
    "    feat_imp = pd.Series(best_model.feature_importances_, index=X.columns)\n",
    "    feat_imp.nlargest(10).plot(kind='barh')\n",
    "    plt.title(\"Top 10 Important Features (Random Forest)\")\n",
    "    plt.show()\n",
    "elif best_model_name == 'XGBoost':\n",
    "    feat_imp = pd.Series(best_model.feature_importances_, index=X.columns)\n",
    "    feat_imp.nlargest(10).plot(kind='barh', color='orange')\n",
    "    plt.title(\"Top 10 Important Features (XGBoost)\")\n",
    "    plt.show()"
   ]
  }
 ],
 "metadata": {
  "kernelspec": {
   "display_name": "anaconda-ai-2024.04-py310",
   "language": "python",
   "name": "conda-env-anaconda-ai-2024.04-py310-py"
  },
  "language_info": {
   "codemirror_mode": {
    "name": "ipython",
    "version": 3
   },
   "file_extension": ".py",
   "mimetype": "text/x-python",
   "name": "python",
   "nbconvert_exporter": "python",
   "pygments_lexer": "ipython3",
   "version": "3.10.13"
  }
 },
 "nbformat": 4,
 "nbformat_minor": 5
}
